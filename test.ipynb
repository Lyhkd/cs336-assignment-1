{
 "cells": [
  {
   "cell_type": "code",
   "execution_count": 5,
   "id": "25df3c5b",
   "metadata": {},
   "outputs": [
    {
     "ename": "UnicodeDecodeError",
     "evalue": "'utf-8' codec can't decode byte 0x81 in position 0: invalid start byte",
     "output_type": "error",
     "traceback": [
      "\u001b[31m---------------------------------------------------------------------------\u001b[39m",
      "\u001b[31mUnicodeDecodeError\u001b[39m                        Traceback (most recent call last)",
      "\u001b[36mCell\u001b[39m\u001b[36m \u001b[39m\u001b[32mIn[5]\u001b[39m\u001b[32m, line 8\u001b[39m\n\u001b[32m      6\u001b[39m b2 = \u001b[33mb\u001b[39m\u001b[33m'\u001b[39m\u001b[38;5;130;01m\\x81\u001b[39;00m\u001b[38;5;130;01m\\x81\u001b[39;00m\u001b[33m'\u001b[39m\n\u001b[32m      7\u001b[39m \u001b[38;5;66;03m# print(b1)\u001b[39;00m\n\u001b[32m----> \u001b[39m\u001b[32m8\u001b[39m \u001b[43mb2\u001b[49m\u001b[43m.\u001b[49m\u001b[43mdecode\u001b[49m\u001b[43m(\u001b[49m\u001b[33;43m\"\u001b[39;49m\u001b[33;43mutf-8\u001b[39;49m\u001b[33;43m\"\u001b[39;49m\u001b[43m)\u001b[49m\n\u001b[32m      9\u001b[39m \u001b[38;5;66;03m# print(decode_utf8_bytes_to_str_wrong(b2))\u001b[39;00m\n",
      "\u001b[31mUnicodeDecodeError\u001b[39m: 'utf-8' codec can't decode byte 0x81 in position 0: invalid start byte"
     ]
    }
   ],
   "source": [
    "def decode_utf8_bytes_to_str_wrong(bytestring: bytes):\n",
    "    return \"\".join([bytes([b]).decode(\"utf-8\") for b in bytestring])\n",
    "\n",
    "s1 = \"hello\"\n",
    "b1 = s1.encode(\"utf-8\")\n",
    "b2 = b'\\x81\\x81'\n",
    "# print(b1)\n",
    "b2.decode(\"utf-8\")\n",
    "# print(decode_utf8_bytes_to_str_wrong(b2))"
   ]
  },
  {
   "cell_type": "code",
   "execution_count": null,
   "id": "cb772273",
   "metadata": {},
   "outputs": [
    {
     "ename": "ValueError",
     "evalue": "invalid literal for int() with base 10: 'Once'",
     "output_type": "error",
     "traceback": [
      "\u001b[31m---------------------------------------------------------------------------\u001b[39m",
      "\u001b[31mValueError\u001b[39m                                Traceback (most recent call last)",
      "\u001b[36mCell\u001b[39m\u001b[36m \u001b[39m\u001b[32mIn[1]\u001b[39m\u001b[32m, line 22\u001b[39m\n\u001b[32m     20\u001b[39m \u001b[38;5;66;03m# 分批写出\u001b[39;00m\n\u001b[32m     21\u001b[39m \u001b[38;5;28;01mif\u001b[39;00m \u001b[38;5;28mlen\u001b[39m(buf) >= CHUNK:\n\u001b[32m---> \u001b[39m\u001b[32m22\u001b[39m     np.asarray(buf[:CHUNK], dtype=dtype).tofile(fout)\n\u001b[32m     23\u001b[39m     \u001b[38;5;28;01mdel\u001b[39;00m buf[:CHUNK]\n\u001b[32m     24\u001b[39m     count += CHUNK\n",
      "\u001b[31mValueError\u001b[39m: invalid literal for int() with base 10: 'Once'"
     ]
    }
   ],
   "source": [
    "import numpy as np\n",
    "import tqdm\n",
    "txt_path = \"data/TinyStoriesV2-GPT4-train.txt\"   # 里面是用空格/换行分隔的整数token或浮点数\n",
    "bin_path = \"data/TinyStoriesV2-GPT4-train.uint16.bin\"  # 目标二进制文件\n",
    "dtype = np.uint16  # 或 np.float32，务必和你的真实数据一致！\n",
    "\n",
    "# 方法1：若文本里是整数/浮点的 ASCII，且内存足够一次读（中小数据）\n",
    "# arr = np.loadtxt(txt_path, dtype=dtype)   # 慢但简单\n",
    "# arr.tofile(bin_path)\n",
    "\n",
    "# 方法2：流式转换，适合巨大文本（节省内存）\n",
    "count = 0\n",
    "with open(txt_path, \"r\", encoding=\"utf-8\") as fin, open(bin_path, \"wb\") as fout:\n",
    "    buf = []\n",
    "    CHUNK = 1_000_000  # 每批次转换这么多数字\n",
    "    for line in fin:\n",
    "        # 将一行里的 token 解析为整数/浮点；如果是空格分隔，split() 即可\n",
    "        if line.strip():\n",
    "            buf.extend(line.split())\n",
    "        # 分批写出\n",
    "        if len(buf) >= CHUNK:\n",
    "            np.asarray(buf[:CHUNK], dtype=dtype).tofile(fout)\n",
    "            del buf[:CHUNK]\n",
    "            count += CHUNK\n",
    "    # 写出余下的\n",
    "    if buf:\n",
    "        np.asarray(buf, dtype=dtype).tofile(fout)\n",
    "        count += len(buf)\n",
    "\n",
    "print(\"wrote\", count, \"elements to\", bin_path)"
   ]
  }
 ],
 "metadata": {
  "kernelspec": {
   "display_name": "pi0",
   "language": "python",
   "name": "python3"
  },
  "language_info": {
   "codemirror_mode": {
    "name": "ipython",
    "version": 3
   },
   "file_extension": ".py",
   "mimetype": "text/x-python",
   "name": "python",
   "nbconvert_exporter": "python",
   "pygments_lexer": "ipython3",
   "version": "3.11.13"
  }
 },
 "nbformat": 4,
 "nbformat_minor": 5
}
