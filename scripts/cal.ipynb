{
 "cells": [
  {
   "cell_type": "code",
   "execution_count": null,
   "id": "03c41047",
   "metadata": {},
   "outputs": [
    {
     "name": "stdout",
     "output_type": "stream",
     "text": [
      "27682406400\n"
     ]
    }
   ],
   "source": [
    "FLOP = (2 * 1024 * 1600 * 1600 * 3  # QKVproj = 3*2Ld_m^2\n",
    "+ 2 * 25 * 1024 * 1024 * 64 # QKT (bs,h,T,d_k) @ (bs,h,T,d_k) = 2hL^2d_k\n",
    "+ 2 * 25 * 1024 * 1024 * 64 # Attn @ V (bs,h,T,T) @ (bs,h,T,d_k) = 2hL^2d_k\n",
    "+ 2 * 1024 * 1600 * 1600 # Val @ Wo^T (bs,T,d_m) @ d_m, d_m = 2Ld_m^2\n",
    "# + 2 * 1024 * 1600 * 6400 * 3 # Up L,d_m @ d_m,d_ff\n",
    ") * 48 + 2 * 1024 * 1600 * 50256 + 2 * 1024 * 50256 * 1600 # final proj\n",
    "print(FLOP)"
   ]
  }
 ],
 "metadata": {
  "kernelspec": {
   "display_name": "pi0",
   "language": "python",
   "name": "python3"
  },
  "language_info": {
   "codemirror_mode": {
    "name": "ipython",
    "version": 3
   },
   "file_extension": ".py",
   "mimetype": "text/x-python",
   "name": "python",
   "nbconvert_exporter": "python",
   "pygments_lexer": "ipython3",
   "version": "3.11.13"
  }
 },
 "nbformat": 4,
 "nbformat_minor": 5
}
